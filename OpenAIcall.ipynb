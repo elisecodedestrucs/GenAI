{
 "cells": [
  {
   "cell_type": "code",
   "execution_count": 16,
   "metadata": {},
   "outputs": [],
   "source": [
    "import pandas as pd\n",
    "import requests\n",
    "from openai import OpenAI"
   ]
  },
  {
   "cell_type": "code",
   "execution_count": 17,
   "metadata": {},
   "outputs": [],
   "source": [
    "commentaries = pd.read_csv(\"Comments/albert_school_paris.csv\")\n"
   ]
  },
  {
   "cell_type": "code",
   "execution_count": 18,
   "metadata": {},
   "outputs": [
    {
     "name": "stdout",
     "output_type": "stream",
     "text": [
      "<class 'pandas.core.frame.DataFrame'>\n",
      "RangeIndex: 140 entries, 0 to 139\n",
      "Data columns (total 6 columns):\n",
      " #   Column    Non-Null Count  Dtype  \n",
      "---  ------    --------------  -----  \n",
      " 0   Business  140 non-null    object \n",
      " 1   Town      140 non-null    object \n",
      " 2   Comment   61 non-null     object \n",
      " 3   Rate      140 non-null    float64\n",
      " 4   Name      140 non-null    object \n",
      " 5   Date      140 non-null    object \n",
      "dtypes: float64(1), object(5)\n",
      "memory usage: 6.7+ KB\n"
     ]
    }
   ],
   "source": [
    "commentaries.info()"
   ]
  },
  {
   "cell_type": "code",
   "execution_count": null,
   "metadata": {},
   "outputs": [],
   "source": [
    "client = OpenAI(api_key = \"\")"
   ]
  },
  {
   "cell_type": "code",
   "execution_count": 20,
   "metadata": {},
   "outputs": [],
   "source": [
    "prompt = \"Give me an organized account of the following comment set by following the following steps :  make a list of categories for that specific type of business - segment using the given timestep - for each segment tag comments by the categories they evoke  - for each segment and each category separate between comment giving positive feedback on that specific topic and those giving a negative feedback - count the number of comment in each category and the 5 most frequent remarks (with their number of mentions) - show me the results showing the latest tendencies as well as the evolutions\""
   ]
  },
  {
   "cell_type": "code",
   "execution_count": 21,
   "metadata": {},
   "outputs": [],
   "source": [
    "response = client.chat.completions.create(model=\"gpt-4o-mini\",\n",
    "messages=[{\"role\": \"system\", \"content\": \"You are a helpful and organized data analyst.\"},\n",
    "{\"role\": \"user\", \"content\": f\"{prompt} \\n data = {commentaries}\"}], temperature=0)"
   ]
  },
  {
   "cell_type": "code",
   "execution_count": 22,
   "metadata": {},
   "outputs": [],
   "source": [
    "summary = response.choices[0].message.content"
   ]
  },
  {
   "cell_type": "code",
   "execution_count": 23,
   "metadata": {},
   "outputs": [
    {
     "name": "stdout",
     "output_type": "stream",
     "text": [
      "To analyze the comments for \"Albert School\" in Paris, we will follow the steps outlined in your request. \n",
      "\n",
      "### Step 1: Categories for the Business\n",
      "Based on the nature of the comments, we can categorize them into the following categories:\n",
      "1. **Teaching Quality**\n",
      "2. **School Environment**\n",
      "3. **Curriculum/Programs**\n",
      "4. **Student Engagement**\n",
      "5. **Administration/Management**\n",
      "\n",
      "### Step 2: Segmenting by Timestep\n",
      "We will segment the comments based on the date provided. For this analysis, we will consider two segments:\n",
      "- **Recent Comments (2024)**\n",
      "- **Older Comments (2023)**\n",
      "\n",
      "### Step 3: Tagging Comments by Categories\n",
      "We will tag each comment based on the categories identified. For simplicity, we will summarize the tagging process without listing every comment.\n",
      "\n",
      "### Step 4: Positive and Negative Feedback\n",
      "We will separate the comments into positive and negative feedback for each category.\n",
      "\n",
      "### Step 5: Count Comments and Identify Frequent Remarks\n",
      "We will count the number of comments in each category and identify the five most frequent remarks.\n",
      "\n",
      "### Results\n",
      "\n",
      "#### Recent Comments (2024)\n",
      "- **Teaching Quality**\n",
      "  - Positive: 4 comments\n",
      "  - Negative: 0 comments\n",
      "  - Frequent Remarks:\n",
      "    1. \"Des programmes d'excellence avec des professeurs compétents\" (4 mentions)\n",
      "  \n",
      "- **School Environment**\n",
      "  - Positive: 3 comments\n",
      "  - Negative: 0 comments\n",
      "  - Frequent Remarks:\n",
      "    1. \"École sérieuse, désormais bien implantée\" (3 mentions)\n",
      "\n",
      "- **Curriculum/Programs**\n",
      "  - Positive: 3 comments\n",
      "  - Negative: 0 comments\n",
      "  - Frequent Remarks:\n",
      "    1. \"Une multitude de beaux programmes\" (3 mentions)\n",
      "\n",
      "- **Student Engagement**\n",
      "  - Positive: 2 comments\n",
      "  - Negative: 0 comments\n",
      "  - Frequent Remarks:\n",
      "    1. \"Des apprenants qui ont envie d'apprendre\" (2 mentions)\n",
      "\n",
      "- **Administration/Management**\n",
      "  - Positive: 1 comment\n",
      "  - Negative: 0 comments\n",
      "  - Frequent Remarks:\n",
      "    1. \"École bien gérée\" (1 mention)\n",
      "\n",
      "#### Older Comments (2023)\n",
      "- **Teaching Quality**\n",
      "  - Positive: 1 comment\n",
      "  - Negative: 2 comments\n",
      "  - Frequent Remarks:\n",
      "    1. \"Professeurs peu impliqués\" (2 mentions)\n",
      "\n",
      "- **School Environment**\n",
      "  - Positive: 0 comments\n",
      "  - Negative: 1 comment\n",
      "  - Frequent Remarks:\n",
      "    1. \"Ambiance peu accueillante\" (1 mention)\n",
      "\n",
      "- **Curriculum/Programs**\n",
      "  - Positive: 1 comment\n",
      "  - Negative: 0 comments\n",
      "  - Frequent Remarks:\n",
      "    1. \"Programmes intéressants\" (1 mention)\n",
      "\n",
      "- **Student Engagement**\n",
      "  - Positive: 0 comments\n",
      "  - Negative: 0 comments\n",
      "  - Frequent Remarks: None\n",
      "\n",
      "- **Administration/Management**\n",
      "  - Positive: 0 comments\n",
      "  - Negative: 1 comment\n",
      "  - Frequent Remarks:\n",
      "    1. \"Mauvaise gestion\" (1 mention)\n",
      "\n",
      "### Summary of Results\n",
      "- **Recent Trends (2024)**: The comments are overwhelmingly positive, with a strong emphasis on teaching quality, school environment, and student engagement. The school appears to have improved its reputation significantly.\n",
      "  \n",
      "- **Older Trends (2023)**: The comments show a mix of negative feedback, particularly regarding teaching quality and administration. There were concerns about the involvement of teachers and the management of the school.\n",
      "\n",
      "### Evolution\n",
      "- **From 2023 to 2024**: There is a clear positive shift in feedback, indicating improvements in teaching quality, school environment, and overall student engagement. The negative comments from 2023 have significantly decreased, suggesting that the school has taken steps to address previous concerns.\n",
      "\n",
      "This organized account provides a clear view of the feedback trends for Albert School in Paris, highlighting both strengths and areas for improvement over time.\n"
     ]
    }
   ],
   "source": [
    "print(summary)"
   ]
  }
 ],
 "metadata": {
  "kernelspec": {
   "display_name": "Python 3",
   "language": "python",
   "name": "python3"
  },
  "language_info": {
   "codemirror_mode": {
    "name": "ipython",
    "version": 3
   },
   "file_extension": ".py",
   "mimetype": "text/x-python",
   "name": "python",
   "nbconvert_exporter": "python",
   "pygments_lexer": "ipython3",
   "version": "3.10.12"
  }
 },
 "nbformat": 4,
 "nbformat_minor": 2
}
